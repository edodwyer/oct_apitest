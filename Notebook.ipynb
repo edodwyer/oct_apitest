{
 "cells": [
  {
   "cell_type": "code",
   "execution_count": 1,
   "id": "113b2ae8",
   "metadata": {},
   "outputs": [],
   "source": [
    "import datetime as dt\n",
    "import pandas as pd\n",
    "import pickle\n",
    "import numpy as np\n",
    "import app_fcns as fcns\n",
    "from dash import Dash, html, dcc\n",
    "import plotly.express as px\n",
    "from plotly.subplots import make_subplots"
   ]
  },
  {
   "cell_type": "code",
   "execution_count": 24,
   "id": "52744791",
   "metadata": {},
   "outputs": [],
   "source": [
    "# Generate parameters\n",
    "\n",
    "# Get defaults:\n",
    "# dStart,Bat_capacity,ch_max,Eff,agile_version = import_user_inputs()\n",
    "\n",
    "# Start date:\n",
    "dStart='20-Sep-2022 00:00'\n",
    "\n",
    "# 0:'AGILE-18-02-21', 1:'AGILE-22-07-22', 2:'AGILE-22-08-31', Fixed:'VAR-19-04-12'\n",
    "agile_version = 2\n",
    "\n",
    "\n",
    "# Battery parameters:\n",
    "\n",
    "# Capacity of battery in kWh:\n",
    "Bat_capacity = 13 \n",
    "\n",
    "# Max charge/discharge power in kW:\n",
    "ch_max = 3\n",
    "\n",
    "# Round-trip efficiency:\n",
    "Eff = 0.9 \n",
    "\n",
    "\n",
    "user_params = dict()\n",
    "user_params['dStart'] = dStart\n",
    "user_params['Bat_capacity'] = Bat_capacity\n",
    "user_params['ch_max'] = ch_max\n",
    "user_params['Eff'] = Eff\n",
    "user_params['agile_version'] = agile_version\n",
    "\n",
    "params,batparams,tindex = fcns.get_params(user_params)\n"
   ]
  },
  {
   "cell_type": "code",
   "execution_count": 25,
   "id": "85be8337",
   "metadata": {},
   "outputs": [
    {
     "name": "stdout",
     "output_type": "stream",
     "text": [
      "AGILE-22-08-31tariff was available in these dates\n",
      "VAR-19-04-12tariff was available in these dates\n"
     ]
    }
   ],
   "source": [
    "# Pull price data from Octopus API\n",
    "\n",
    "availstr1, availstr2 = fcns.get_tariff_availability(params)\n",
    "print(availstr1)\n",
    "print(availstr2)\n",
    "\n",
    "tariffs = fcns.get_tariffs(params)\n"
   ]
  },
  {
   "cell_type": "code",
   "execution_count": 22,
   "id": "b4550f1a",
   "metadata": {},
   "outputs": [
    {
     "name": "stdout",
     "output_type": "stream",
     "text": [
      "VAR-19-04-12 tariff was not available in these dates\n"
     ]
    }
   ],
   "source": [
    "import requests\n",
    "use_tar=3\n",
    "tar_types = ['AGILE-18-02-21','AGILE-22-07-22','AGILE-22-08-31','VAR-19-04-12']\n",
    "    \n",
    "url0 = 'https://api.octopus.energy/v1/'\n",
    "url1 = 'products/'+tar_types[use_tar]+'/'\n",
    "url2 = 'electricity-tariffs/E-1R-'+tar_types[use_tar]+'-C/standard-unit-rates/'\n",
    "url3 = '?period_from='\n",
    "url4 = params['dStart']\n",
    "url5 = '&period_to='\n",
    "url6 = params['dEnd']\n",
    "\n",
    "url = (url0+url1+url2+url3+url4+url5+url6)\n",
    "\n",
    "query = \"\"\"query {\n",
    "    energyProduct(code:\"AGILE-22-08-31\") {\n",
    "    availableFrom\n",
    "    availableTo\n",
    "  }\n",
    "}\"\"\"\n",
    "\n",
    "url = 'https://api.octopus.energy/v1/graphql/'\n",
    "r = requests.post(url, json={'query': query})\n",
    "return_dict = r.json()\n",
    "availFr = return_dict['data']['energyProduct']['availableFrom']\n",
    "availTo = return_dict['data']['energyProduct']['availableTo']\n",
    "\n",
    "availability = 1 if params['dStart']>availFr and params['dEnd']<availTo else 0\n",
    "\n",
    "if availability==1:\n",
    "    availstr = tar_types[use_tar]+\" tariff was available in these dates\"\n",
    "else:\n",
    "    availstr = tar_types[use_tar]+\" tariff was not available in these dates\"\n",
    "\n",
    "print(availstr)"
   ]
  },
  {
   "cell_type": "code",
   "execution_count": 23,
   "id": "dc6ff970",
   "metadata": {},
   "outputs": [
    {
     "name": "stdout",
     "output_type": "stream",
     "text": [
      "2022-10-06T11:05:00+01:00\n"
     ]
    }
   ],
   "source": [
    "params['dEnd']\n",
    "print(availTo)"
   ]
  },
  {
   "cell_type": "code",
   "execution_count": 7,
   "id": "8081db9e",
   "metadata": {},
   "outputs": [],
   "source": [
    "# Pull demand data from AWS RDS\n",
    "\n",
    "dem_df =  fcns.get_demand(params)\n"
   ]
  },
  {
   "cell_type": "code",
   "execution_count": 8,
   "id": "2c95ba4a",
   "metadata": {},
   "outputs": [],
   "source": [
    "# Simulate costs for one set of charging/discharging times\n",
    "\n",
    "# Start charging at:\n",
    "ch_start_hour=3\n",
    "\n",
    "# Start discharging at:\n",
    "dch_start_hour=14\n",
    "\n",
    "res_df, cost_df = fcns.run_1_sim(params,batparams,tariffs,dem_df,tindex,ch_start_hour,dch_start_hour)\n"
   ]
  },
  {
   "cell_type": "code",
   "execution_count": 9,
   "id": "389fd3f6",
   "metadata": {},
   "outputs": [],
   "source": [
    "# Find best charging/disharging times\n",
    "\n",
    "res_df,cost_df,bestsol,best_dch_start,best_ch_start = fcns.run_best_sim(params,batparams,tariffs,dem_df,tindex)\n"
   ]
  },
  {
   "cell_type": "code",
   "execution_count": 10,
   "id": "5f5e6e37",
   "metadata": {},
   "outputs": [
    {
     "data": {
      "text/html": [
       "<div>\n",
       "  <iframe src=\"/app/endpoints/fc10da7b38424d0d827d93fccf633daf/\" width=800 height=600 frameborder=\"0\"></iframe>\n",
       "  <hr/><a href=\"/app/endpoints/fc10da7b38424d0d827d93fccf633daf/\" target=\"_new\">Open in new window</a> for /app/endpoints/fc10da7b38424d0d827d93fccf633daf/\n",
       "</div>"
      ],
      "text/plain": [
       "<jupyter_plotly_dash.dash_wrapper.JupyterDash at 0x195e7ac0e80>"
      ]
     },
     "execution_count": 10,
     "metadata": {},
     "output_type": "execute_result"
    }
   ],
   "source": [
    "# Plot results using dash and plotly\n",
    "\n",
    "from jupyter_plotly_dash import JupyterDash\n",
    "\n",
    "app = JupyterDash(__name__)\n",
    "\n",
    "dfa = pd.concat([tariffs['Agile'],tariffs['Fixed']],axis=1)\n",
    "dfa.columns=['Agile','Fixed']\n",
    "dfa=dfa.melt(var_name='tariff', value_name='value', ignore_index=False)\n",
    "\n",
    "df1 = cost_df.cumsum()\n",
    "\n",
    "subfig = make_subplots(specs=[[{\"secondary_y\": True}]])\n",
    "\n",
    "fig = px.line(res_df, x=res_df.index, y=[\"Baseline_Grid\",\"Grid\"],color_discrete_sequence=px.colors.qualitative.Vivid)\n",
    "figa = px.line(dfa, x=dfa.index, y=[\"value\"],color='tariff',line_dash_sequence=['dot'],width=10)\n",
    "\n",
    "figa.update_traces(yaxis=\"y2\")\n",
    "\n",
    "subfig.add_traces(fig.data + figa.data)\n",
    "subfig.layout.xaxis.title=\"Time\"\n",
    "subfig.layout.yaxis.title=\"Power Consumption\"\n",
    "subfig.layout.yaxis2.title=\"price p/kWh\"\n",
    "subfig.layout.yaxis2.showgrid=False\n",
    "\n",
    "\n",
    "bars=pd.DataFrame(data=[df1.iloc[-1].values],columns=df1.columns,index=['Total cost']).T\n",
    "\n",
    "\n",
    "figures = [\n",
    "            px.line(df1, x=df1.index, y=[\"Agile\",\"Fixed\"], title=\"Test\",color_discrete_sequence=px.colors.qualitative.Vivid),\n",
    "            px.bar(bars)\n",
    "    ]\n",
    "\n",
    "fig1 = make_subplots(rows=1, cols=len(figures)) \n",
    "fig1.layout.yaxis.title=\"Accumulated cost £\"\n",
    "\n",
    "for i, figure in enumerate(figures):\n",
    "    for trace in range(len(figure[\"data\"])):\n",
    "        fig1.append_trace(figure[\"data\"][trace], row=1, col=i+1)\n",
    "\n",
    "\n",
    "\n",
    "\n",
    "app.layout = html.Div(children=[\n",
    "    html.Div([        \n",
    "        html.H1(children='Grid demand'),\n",
    "\n",
    "        html.Div(children='''\n",
    "            With and without battery+Agile.\n",
    "        '''),\n",
    "\n",
    "        dcc.Graph(\n",
    "            id='f1',\n",
    "            figure=subfig\n",
    "        ),\n",
    "    ]),\n",
    "\n",
    "\n",
    "    html.Div([\n",
    "        html.Div([\n",
    "            html.H1(children='Cumulative cost'),\n",
    "\n",
    "            html.Div(children='''\n",
    "                With and without battery+Agile.\n",
    "            '''),\n",
    "\n",
    "            dcc.Graph(\n",
    "                id='f2',\n",
    "                figure=fig1\n",
    "            ),\n",
    "        ]),\n",
    "    ]),    \n",
    "])\n",
    "\n",
    "app\n"
   ]
  }
 ],
 "metadata": {
  "kernelspec": {
   "display_name": "Python 3 (ipykernel)",
   "language": "python",
   "name": "python3"
  },
  "language_info": {
   "codemirror_mode": {
    "name": "ipython",
    "version": 3
   },
   "file_extension": ".py",
   "mimetype": "text/x-python",
   "name": "python",
   "nbconvert_exporter": "python",
   "pygments_lexer": "ipython3",
   "version": "3.10.6"
  }
 },
 "nbformat": 4,
 "nbformat_minor": 5
}
